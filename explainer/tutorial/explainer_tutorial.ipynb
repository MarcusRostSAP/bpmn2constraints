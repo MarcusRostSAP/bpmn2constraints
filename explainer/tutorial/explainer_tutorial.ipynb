{
 "cells": [
  {
   "cell_type": "markdown",
   "metadata": {},
   "source": [
    "# Explainer utility in BPMN2CONSTRAINTS\n",
    "\n",
    "In this notebook, we explore the `Explainer` class, designed to analyze and explain the conformance of traces against predefined constraints. Trace analysis is crucial in domains such as process mining, where understanding the behavior of system executions against expected models can uncover inefficiencies, deviations, or compliance issues.\n",
    "\n",
    "The constraints currently consists of basic regex, this is because of it's similiarities and likeness to declarative constraints used in BPMN2CONSTRAINTS\n"
   ]
  },
  {
   "cell_type": "markdown",
   "metadata": {},
   "source": [
    "## Step 1: Setup"
   ]
  },
  {
   "cell_type": "code",
   "execution_count": 1,
   "metadata": {},
   "outputs": [],
   "source": [
    "import sys\n",
    "sys.path.append('../')\n",
    "from explainer import Explainer, Trace"
   ]
  },
  {
   "cell_type": "markdown",
   "metadata": {},
   "source": [
    "## Step 2: Basic Usage\n",
    "Let's start by creating an instance of the `Explainer` and adding a simple constraint that a valid trace should contain the sequence \"A\" followed by \"B\" and then \"C\".\n"
   ]
  },
  {
   "cell_type": "code",
   "execution_count": 2,
   "metadata": {},
   "outputs": [],
   "source": [
    "explainer = Explainer()\n",
    "explainer.add_constraint('A.*B.*C')"
   ]
  },
  {
   "cell_type": "markdown",
   "metadata": {},
   "source": [
    "## Step 3: Analyzing Trace Conformance\n",
    "\n",
    "Now, we'll create a trace and check if it conforms to the constraints we've defined."
   ]
  },
  {
   "cell_type": "code",
   "execution_count": 3,
   "metadata": {},
   "outputs": [
    {
     "name": "stdout",
     "output_type": "stream",
     "text": [
      "Is the trace conformant? True\n"
     ]
    }
   ],
   "source": [
    "trace = Trace(['A', 'X', 'B', 'Y', 'C'])\n",
    "is_conformant = explainer.conformant(trace)\n",
    "print(f\"Is the trace conformant? {is_conformant}\")"
   ]
  },
  {
   "cell_type": "markdown",
   "metadata": {},
   "source": [
    "## Step 4: Explaining Non-conformance\n",
    "\n",
    "If a trace is not conformant, we can use the `minimal_expl` and `counterfactual_expl` methods to understand why and how to adjust the trace.\n"
   ]
  },
  {
   "cell_type": "code",
   "execution_count": 4,
   "metadata": {},
   "outputs": [
    {
     "name": "stdout",
     "output_type": "stream",
     "text": [
      "Constraint: A.*B.*C\n",
      "Trace:['A', 'C']\n",
      "Non-conformance due to: Constraint (A.*B.*C) is violated by subtrace: ('A', 'C')\n",
      "\n",
      "Addition (Added B at position 1): A->B->C\n",
      "-----------\n",
      "Constraint: A.*B.*C\n",
      "Trace:['C', 'B', 'A']\n",
      "Non-conformance due to: Constraint (A.*B.*C) is violated by subtrace: ('C', 'B')\n",
      "\n",
      "Addition (Added A at position 1): C->A->B->A\n",
      "Subtraction (Removed C from position 0): A->B->A\n",
      "Addition (Added C at position 2): A->B->C->A\n",
      "-----------\n",
      "Constraint: A.*B.*C\n",
      "Trace:['A', 'A', 'C']\n",
      "Non-conformance due to: Constraint (A.*B.*C) is violated by subtrace: ('A', 'A')\n",
      "\n",
      "Addition (Added B at position 2): A->A->B->C\n",
      "-----------\n",
      "Constraint: A.*B.*C\n",
      "Trace:['A', 'A', 'C', 'A', 'TEST', 'A', 'C', 'X', 'Y']\n",
      "Non-conformance due to: Constraint (A.*B.*C) is violated by subtrace: ('A', 'A')\n",
      "\n",
      "Subtraction (Removed TEST from position 4): A->A->C->A->A->C->X->Y\n",
      "Addition (Added B at position 2): A->A->B->C->A->A->C->X->Y\n",
      "-----------\n",
      "Constraint: AC\n",
      "Trace:['A', 'X', 'C']\n",
      "Non-conformance due to: Constraint (AC) is violated by subtrace: ('A', 'X')\n",
      "\n",
      "Subtraction (Removed X from position 1): A->C\n",
      "-----------\n",
      "constraint: AC\n",
      "constraint: B.*A.*B.*C\n",
      "constraint: A.*B.*C.*\n",
      "constraint: A.*D.*B*\n",
      "constraint: A[^D]*B\n",
      "constraint: B.*[^X].*\n",
      "Trace:['A', 'X', 'C']\n",
      "Non-conformance due to: Constraint (AC) is violated by subtrace: ('A', 'X')\n",
      "\n",
      "Subtraction (Removed X from position 1): A->C\n"
     ]
    }
   ],
   "source": [
    "non_conformant_trace = Trace(['A', 'C'])\n",
    "print('Constraint: A.*B.*C')\n",
    "print('Trace:' + str(non_conformant_trace.nodes))\n",
    "print(explainer.minimal_expl(non_conformant_trace))\n",
    "print(explainer.counterfactual_expl(non_conformant_trace))\n",
    "\n",
    "non_conformant_trace = Trace(['C', 'B', 'A'])\n",
    "print('-----------')\n",
    "print('Constraint: A.*B.*C')\n",
    "print('Trace:' + str(non_conformant_trace.nodes))\n",
    "print(explainer.minimal_expl(non_conformant_trace))\n",
    "print(explainer.counterfactual_expl(non_conformant_trace))\n",
    "\n",
    "non_conformant_trace = Trace(['A','A','C'])\n",
    "print('-----------')\n",
    "print('Constraint: A.*B.*C')\n",
    "print('Trace:' + str(non_conformant_trace.nodes))\n",
    "print(explainer.minimal_expl(non_conformant_trace))\n",
    "print(explainer.counterfactual_expl(non_conformant_trace))\n",
    "\n",
    "\n",
    "non_conformant_trace = Trace(['A','A','C','A','TEST','A','C', 'X', 'Y']) \n",
    "print('-----------')\n",
    "print('Constraint: A.*B.*C')\n",
    "print('Trace:' + str(non_conformant_trace.nodes))\n",
    "print(explainer.minimal_expl(non_conformant_trace))\n",
    "print(explainer.counterfactual_expl(non_conformant_trace))\n",
    "\n",
    "\n",
    "explainer.remove_constraint(0)\n",
    "explainer.add_constraint('AC')\n",
    "non_conformant_trace = Trace(['A', 'X', 'C']) #Substraction\n",
    "print('-----------')\n",
    "print('Constraint: AC')\n",
    "print('Trace:' + str(non_conformant_trace.nodes))\n",
    "print(explainer.minimal_expl(non_conformant_trace))\n",
    "print(explainer.counterfactual_expl(non_conformant_trace))\n",
    "print('-----------')\n",
    "\n",
    "explainer.add_constraint('B.*A.*B.*C')\n",
    "explainer.add_constraint('A.*B.*C.*')\n",
    "explainer.add_constraint('A.*D.*B*')\n",
    "explainer.add_constraint('A[^D]*B')\n",
    "explainer.add_constraint('B.*[^X].*')\n",
    "non_conformant_trace = Trace(['A', 'X', 'C']) #Substraction\n",
    "for con in explainer.constraints:\n",
    "    print(f'constraint: {con}')\n",
    "print('Trace:' + str(non_conformant_trace.nodes))\n",
    "print(explainer.minimal_expl(non_conformant_trace))\n",
    "print(explainer.counterfactual_expl(non_conformant_trace))\n",
    "\n",
    "\n"
   ]
  },
  {
   "cell_type": "markdown",
   "metadata": {},
   "source": [
    "## Step 5: Generating minimal solutions"
   ]
  },
  {
   "cell_type": "code",
   "execution_count": 9,
   "metadata": {},
   "outputs": [
    {
     "name": "stdout",
     "output_type": "stream",
     "text": [
      "Example without minimal solution\n",
      "--------------------------------\n",
      "\n",
      "Subtraction (Removed A from position 2): A->B->C->B\n",
      "Subtraction (Removed B from position 3): A->B->C\n",
      "\n",
      "Example with minimal solution\n",
      "--------------------------------\n",
      "\n",
      "Addition (Added C at position 5): A->B->A->C->B->C\n",
      "\n",
      "Example without minimal solution\n",
      "--------------------------------\n",
      "\n",
      "Addition (Added A at position 1): C->A->B->A\n",
      "Subtraction (Removed C from position 0): A->B->A\n",
      "Addition (Added C at position 2): A->B->C->A\n",
      "Subtraction (Removed A from position 3): A->B->C\n",
      "\n",
      "Example with minimal solution\n",
      "--------------------------------\n",
      "\n",
      "Addition (Added A at position 0): A->C->B->A\n",
      "Addition (Added C at position 4): A->C->B->A->C\n"
     ]
    }
   ],
   "source": [
    "exp = Explainer()\n",
    "exp.add_constraint(\"^A\")\n",
    "exp.add_constraint(\"A.*B.*\")\n",
    "exp.add_constraint(\"C$\")\n",
    "trace = Trace(['A', 'B','A','C', 'B'])\n",
    "print(\"Example without minimal solution\")\n",
    "print(\"--------------------------------\")\n",
    "print(exp.counterfactual_expl(trace))\n",
    "\n",
    "print(\"\\nExample with minimal solution\")\n",
    "print(\"--------------------------------\")\n",
    "exp.set_minimal_solution(True)\n",
    "print(exp.counterfactual_expl(trace))\n",
    "exp.set_minimal_solution(False)\n",
    "trace = Trace(['C','B','A'])\n",
    "print(\"\\nExample without minimal solution\")\n",
    "print(\"--------------------------------\")\n",
    "print(exp.counterfactual_expl(trace))\n",
    "\n",
    "print(\"\\nExample with minimal solution\")\n",
    "print(\"--------------------------------\")\n",
    "exp.set_minimal_solution(True)\n",
    "print(exp.counterfactual_expl(trace))"
   ]
  },
  {
   "cell_type": "markdown",
   "metadata": {},
   "source": [
    "## Step 6: Event Logs and Shapely values\n",
    "\n",
    "The event logs in this context is built with traces, here's how you set them up."
   ]
  },
  {
   "cell_type": "code",
   "execution_count": 6,
   "metadata": {},
   "outputs": [
    {
     "name": "stdout",
     "output_type": "stream",
     "text": [
      "Conformance rate: 0.2\n",
      "Contribution ^A: 0.5\n",
      "Contribution C$: 0.30000000000000004\n"
     ]
    }
   ],
   "source": [
    "from explainer import EventLog\n",
    "\n",
    "event_log = EventLog()\n",
    "trace1 = Trace(['A', 'B', 'C'])\n",
    "trace2 = Trace(['B', 'C'])\n",
    "trace3 = Trace(['A', 'B'])\n",
    "trace4 = Trace(['B'])\n",
    "\n",
    "event_log.add_trace(trace1, 5) # The second is how many traces you'd like to add, leave blank for 1\n",
    "event_log.add_trace(trace2, 10)\n",
    "event_log.add_trace(trace3, 5)\n",
    "event_log.add_trace(trace4, 5)\n",
    "\n",
    "\n",
    "exp = Explainer()\n",
    "exp.add_constraint(\"^A\")\n",
    "exp.add_constraint(\"C$\")\n",
    "print(\"Conformance rate: \"+ str(exp.determine_conformance_rate(event_log)))\n",
    "print('Contribution ^A:', exp.determine_shapley_value(event_log, exp.constraints, 0))\n",
    "print('Contribution C$:', exp.determine_shapley_value(event_log, exp.constraints, 1))\n"
   ]
  },
  {
   "cell_type": "code",
   "execution_count": 7,
   "metadata": {},
   "outputs": [
    {
     "name": "stdout",
     "output_type": "stream",
     "text": [
      "conformant AC :True\n",
      "Conformance rate: 0.14\n",
      "Contribution C$: 0.21\n",
      "Contribution ^A: 0.36\n",
      "Contribution B+: 0.29\n"
     ]
    }
   ],
   "source": [
    "exp = Explainer()\n",
    "event_log = EventLog()\n",
    "trace1 = Trace(['A', 'B', 'C'])\n",
    "trace2 = Trace(['B', 'C'])\n",
    "trace3 = Trace(['A', 'B'])\n",
    "trace4 = Trace(['B'])\n",
    "trace5 = Trace(['A', 'C'])\n",
    "\n",
    "\n",
    "event_log.add_trace(trace1, 5) # The second is how many traces you'd like to add, leave blank for 1\n",
    "event_log.add_trace(trace2, 10)\n",
    "event_log.add_trace(trace3, 5)\n",
    "event_log.add_trace(trace4, 5)\n",
    "event_log.add_trace(trace5, 10)\n",
    "\n",
    "\n",
    "exp = Explainer()\n",
    "exp.add_constraint(\"C$\")\n",
    "exp.add_constraint(\"^A\")\n",
    "exp.add_constraint(\"B+\")\n",
    "print(\"conformant AC :\" + str(exp.conformant(trace5)))\n",
    "print(\"Conformance rate: \"+ str(round(exp.determine_conformance_rate(event_log), 2)))\n",
    "print('Contribution C$:', round(exp.determine_shapley_value(event_log, exp.constraints, 0), 2))\n",
    "print('Contribution ^A:', round(exp.determine_shapley_value(event_log, exp.constraints, 1), 2))\n",
    "print('Contribution B+:', round(exp.determine_shapley_value(event_log, exp.constraints, 2), 2))\n",
    "\n"
   ]
  }
 ],
 "metadata": {
  "kernelspec": {
   "display_name": ".venv",
   "language": "python",
   "name": "python3"
  },
  "language_info": {
   "codemirror_mode": {
    "name": "ipython",
    "version": 3
   },
   "file_extension": ".py",
   "mimetype": "text/x-python",
   "name": "python",
   "nbconvert_exporter": "python",
   "pygments_lexer": "ipython3",
   "version": "3.10.12"
  }
 },
 "nbformat": 4,
 "nbformat_minor": 2
}
