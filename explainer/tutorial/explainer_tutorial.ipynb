{
 "cells": [
  {
   "cell_type": "markdown",
   "metadata": {},
   "source": [
    "# Explainer utility in BPMN2CONSTRAINTS\n",
    "\n",
    "In this notebook, we explore the `Explainer` class, designed to analyze and explain the conformance of traces against predefined constraints. Trace analysis is crucial in domains such as process mining, where understanding the behavior of system executions against expected models can uncover inefficiencies, deviations, or compliance issues.\n",
    "\n",
    "The constraints currently consists of basic regex, this is because of it's similiarities and likeness to declarative constraints used in BPMN2CONSTRAINTS\n"
   ]
  },
  {
   "cell_type": "markdown",
   "metadata": {},
   "source": [
    "## Step 1: Setup"
   ]
  },
  {
   "cell_type": "code",
   "execution_count": 1,
   "metadata": {},
   "outputs": [],
   "source": [
    "import sys\n",
    "sys.path.append('../')\n",
    "from explainer import Explainer, Trace"
   ]
  },
  {
   "cell_type": "markdown",
   "metadata": {},
   "source": [
    "## Step 2: Basic Usage\n",
    "Let's start by creating an instance of the `Explainer` and adding a simple constraint that a valid trace should contain the sequence \"A\" followed by \"B\" and then \"C\".\n"
   ]
  },
  {
   "cell_type": "code",
   "execution_count": 2,
   "metadata": {},
   "outputs": [],
   "source": [
    "explainer = Explainer()\n",
    "explainer.add_constraint('A.*B.*C')"
   ]
  },
  {
   "cell_type": "markdown",
   "metadata": {},
   "source": [
    "## Step 3: Analyzing Trace Conformance\n",
    "\n",
    "Now, we'll create a trace and check if it conforms to the constraints we've defined."
   ]
  },
  {
   "cell_type": "code",
   "execution_count": 3,
   "metadata": {},
   "outputs": [
    {
     "name": "stdout",
     "output_type": "stream",
     "text": [
      "Is the trace conformant? True\n"
     ]
    }
   ],
   "source": [
    "trace = Trace(['A', 'X', 'B', 'Y', 'C'])\n",
    "is_conformant = explainer.conformant(trace)\n",
    "print(f\"Is the trace conformant? {is_conformant}\")"
   ]
  },
  {
   "cell_type": "markdown",
   "metadata": {},
   "source": [
    "## Step 4: Explaining Non-conformance\n",
    "\n",
    "If a trace is not conformant, we can use the `minimal_expl` and `counterfactual_expl` methods to understand why and how to adjust the trace.\n"
   ]
  },
  {
   "cell_type": "code",
   "execution_count": 4,
   "metadata": {},
   "outputs": [
    {
     "name": "stdout",
     "output_type": "stream",
     "text": [
      "Constraint: A.*B.*C\n",
      "Trace:['A', 'C']\n",
      "['A', 'C']\n",
      "Addition (Added B at position 2): A->C->B\n",
      "['A', 'B', 'C']\n",
      "Non-conformance due to: Constraint (A.*B.*C) is violated by subtrace: ('A', 'C')\n",
      "-----------\n",
      "Constraint: A.*B.*C\n",
      "Trace:['C', 'B', 'A']\n",
      "['C', 'B', 'A']\n",
      "Addition (Added A at position 1): C->A->B->A\n",
      "Subtraction (Removed C from position 0): A->B->A\n",
      "Addition (Added C at position 2): A->B->C->A\n",
      "['A', 'B', 'C', 'A']\n",
      "Non-conformance due to: Constraint (A.*B.*C) is violated by subtrace: ('C', 'B')\n",
      "-----------\n",
      "Constraint: A.*B.*C\n",
      "Trace:['A', 'A', 'C']\n",
      "['A', 'A', 'C']\n",
      "Addition (Added B at position 2): A->A->B->C\n",
      "['A', 'A', 'B', 'C']\n",
      "Non-conformance due to: Constraint (A.*B.*C) is violated by subtrace: ('A', 'A')\n",
      "-----------\n",
      "Constraint: A.*B.*C\n",
      "Trace:['A', 'A', 'C', 'A', 'TEST', 'A', 'C', 'X', 'Y']\n",
      "['A', 'A', 'C', 'A', 'TEST', 'A', 'C', 'X', 'Y']\n",
      "Subtraction (Removed TEST from position 4): A->A->C->A->A->C->X->Y\n",
      "Addition (Added B at position 2): A->A->B->C->A->A->C->X->Y\n",
      "['A', 'A', 'B', 'C', 'A', 'A', 'C', 'X', 'Y']\n",
      "Non-conformance due to: Constraint (A.*B.*C) is violated by subtrace: ('A', 'A')\n",
      "-----------\n",
      "Constraint: AC\n",
      "Trace:['A', 'X', 'C']\n",
      "['A', 'X', 'C']\n",
      "Subtraction (Removed X from position 1): A->C\n",
      "['A', 'C']\n",
      "Non-conformance due to: Constraint (AC) is violated by subtrace: ('A', 'X')\n",
      "-----------\n",
      "constraint: AC\n",
      "constraint: B.*A.*B.*C\n",
      "constraint: A.*B.*C.*\n",
      "constraint: A.*D.*B*\n",
      "constraint: A[^D]*B\n",
      "Trace:['A', 'X', 'C']\n",
      "['A', 'X', 'C']\n",
      "Addition (Added C at position 1): A->C->X->C\n",
      "Addition (Added B at position 1): A->B->C->X->C\n",
      "Addition (Added D at position 5): B->A->C->X->C->D\n",
      "Addition (Added B at position 3): B->A->C->B->X->C->D\n",
      "['B', 'A', 'C', 'B', 'X', 'C', 'D']\n",
      "Non-conformance due to: Constraint (A[^D]*B) is violated by subtrace: ('A', 'X')\n"
     ]
    }
   ],
   "source": [
    "non_conformant_trace = Trace(['A', 'C'])\n",
    "print('Constraint: A.*B.*C')\n",
    "print('Trace:' + str(non_conformant_trace.nodes))\n",
    "print(explainer.counterfactual_expl(non_conformant_trace))\n",
    "print(explainer.minimal_expl(non_conformant_trace))\n",
    "\n",
    "non_conformant_trace = Trace(['C', 'B', 'A'])\n",
    "print('-----------')\n",
    "print('Constraint: A.*B.*C')\n",
    "print('Trace:' + str(non_conformant_trace.nodes))\n",
    "print(explainer.counterfactual_expl(non_conformant_trace))\n",
    "print(explainer.minimal_expl(non_conformant_trace))\n",
    "\n",
    "non_conformant_trace = Trace(['A','A','C'])\n",
    "print('-----------')\n",
    "print('Constraint: A.*B.*C')\n",
    "print('Trace:' + str(non_conformant_trace.nodes))\n",
    "print(explainer.counterfactual_expl(non_conformant_trace))\n",
    "print(explainer.minimal_expl(non_conformant_trace))\n",
    "\n",
    "\n",
    "non_conformant_trace = Trace(['A','A','C','A','TEST','A','C', 'X', 'Y']) \n",
    "print('-----------')\n",
    "print('Constraint: A.*B.*C')\n",
    "print('Trace:' + str(non_conformant_trace.nodes))\n",
    "print(explainer.counterfactual_expl(non_conformant_trace))\n",
    "print(explainer.minimal_expl(non_conformant_trace))\n",
    "\n",
    "\n",
    "explainer.remove_constraint(0)\n",
    "explainer.add_constraint('AC')\n",
    "non_conformant_trace = Trace(['A', 'X', 'C']) #Substraction\n",
    "print('-----------')\n",
    "print('Constraint: AC')\n",
    "print('Trace:' + str(non_conformant_trace.nodes))\n",
    "print(explainer.counterfactual_expl(non_conformant_trace))\n",
    "print(explainer.minimal_expl(non_conformant_trace))\n",
    "\n",
    "explainer.add_constraint('B.*A.*B.*C')\n",
    "explainer.add_constraint('A.*B.*C.*')\n",
    "explainer.add_constraint('A.*D.*B*')\n",
    "explainer.add_constraint('A[^D]*B')\n",
    "non_conformant_trace = Trace(['A', 'X', 'C']) #Substraction\n",
    "print('-----------')\n",
    "for con in explainer.constraints:\n",
    "    print(f'constraint: {con}')\n",
    "print('Trace:' + str(non_conformant_trace.nodes))\n",
    "print(explainer.counterfactual_expl(non_conformant_trace))\n",
    "print(explainer.minimal_expl(non_conformant_trace))\n",
    "\n",
    "\n"
   ]
  },
  {
   "cell_type": "markdown",
   "metadata": {},
   "source": [
    "## Step 5: Signal (Not implemented yet)"
   ]
  }
 ],
 "metadata": {
  "kernelspec": {
   "display_name": ".venv",
   "language": "python",
   "name": "python3"
  },
  "language_info": {
   "codemirror_mode": {
    "name": "ipython",
    "version": 3
   },
   "file_extension": ".py",
   "mimetype": "text/x-python",
   "name": "python",
   "nbconvert_exporter": "python",
   "pygments_lexer": "ipython3",
   "version": "3.12.1"
  }
 },
 "nbformat": 4,
 "nbformat_minor": 2
}
