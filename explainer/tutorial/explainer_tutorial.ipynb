{
 "cells": [
  {
   "cell_type": "markdown",
   "metadata": {},
   "source": [
    "# Explainer utility in BPMN2CONSTRAINTS\n",
    "\n",
    "In this notebook, we explore the `Explainer` class, designed to analyze and explain the conformance of traces against predefined constraints. Trace analysis is crucial in domains such as process mining, where understanding the behavior of system executions against expected models can uncover inefficiencies, deviations, or compliance issues.\n",
    "\n",
    "The constraints currently consists of basic regex, this is because of it's similiarities and likeness to declarative constraints used in BPMN2CONSTRAINTS\n"
   ]
  },
  {
   "cell_type": "markdown",
   "metadata": {},
   "source": [
    "## Step 1: Setup"
   ]
  },
  {
   "cell_type": "code",
   "execution_count": 14,
   "metadata": {},
   "outputs": [],
   "source": [
    "import sys\n",
    "sys.path.append('../')\n",
    "from explainer import Explainer, Trace"
   ]
  },
  {
   "cell_type": "markdown",
   "metadata": {},
   "source": [
    "## Step 2: Basic Usage\n",
    "Let's start by creating an instance of the `Explainer` and adding a simple constraint that a valid trace should contain the sequence \"A\" followed by \"B\" and then \"C\".\n"
   ]
  },
  {
   "cell_type": "code",
   "execution_count": 15,
   "metadata": {},
   "outputs": [],
   "source": [
    "explainer = Explainer()\n",
    "explainer.add_constraint('A.*B.*C')"
   ]
  },
  {
   "cell_type": "markdown",
   "metadata": {},
   "source": [
    "## Step 3: Analyzing Trace Conformance\n",
    "\n",
    "Now, we'll create a trace and check if it conforms to the constraints we've defined."
   ]
  },
  {
   "cell_type": "code",
   "execution_count": 16,
   "metadata": {},
   "outputs": [
    {
     "name": "stdout",
     "output_type": "stream",
     "text": [
      "Is the trace conformant? True\n"
     ]
    }
   ],
   "source": [
    "trace = Trace(['A', 'X', 'B', 'Y', 'C'])\n",
    "is_conformant = explainer.conformant(trace)\n",
    "print(f\"Is the trace conformant? {is_conformant}\")"
   ]
  },
  {
   "cell_type": "markdown",
   "metadata": {},
   "source": [
    "## Step 4: Explaining Non-conformance\n",
    "\n",
    "If a trace is not conformant, we can use the `minimal_expl` and `counterfactual_expl` methods to understand why and how to adjust the trace.\n"
   ]
  },
  {
   "cell_type": "code",
   "execution_count": 17,
   "metadata": {},
   "outputs": [
    {
     "name": "stdout",
     "output_type": "stream",
     "text": [
      "Constraint: A.*B.*C\n",
      "Trace:['A', 'C']\n",
      "Non-conformance due to: Constraint (A.*B.*C) is violated by subtrace: ('A', 'C')\n",
      "-----------\n",
      "Constraint: A.*B.*C\n",
      "Trace:['A', 'C']\n",
      "Suggested change to make the trace (['A', 'C']) conformant: Addition: A->B->C\n",
      "Non-conformance due to: Constraint (A.*B.*C) is violated by subtrace: ('A', 'C')\n",
      "-----------\n",
      "Constraint: A.*B.*C\n",
      "Trace:['C', 'B', 'A']\n",
      "Suggested change to make the trace (['C', 'B', 'A']) conformant: Reordering: A->B->C\n",
      "Non-conformance due to: Constraint (A.*B.*C) is violated by subtrace: ('C', 'B')\n",
      "-----------\n",
      "Constraint: A.*B.*C\n",
      "Trace:['A', 'A', 'C']\n",
      "Suggested change to make the trace (['A', 'A', 'C']) conformant: Substitution: Replace A with B at position 2\n",
      "Non-conformance due to: Constraint (A.*B.*C) is violated by subtrace: ('A', 'A')\n",
      "-----------\n",
      "Constraint: AC\n",
      "Trace:['A', 'X', 'C']\n",
      "Suggested change to make the trace (['A', 'X', 'C']) conformant: Subtraction (Removed X): A->C\n",
      "Non-conformance due to: Constraint (AC) is violated by subtrace: ('A', 'X')\n"
     ]
    }
   ],
   "source": [
    "non_conformant_trace = Trace(['A', 'C'])\n",
    "print('Constraint: A.*B.*C')\n",
    "print('Trace:' + str(non_conformant_trace.nodes))\n",
    "print(explainer.counterfactual_expl(non_conformant_trace)) # Addition\n",
    "print(explainer.minimal_expl(non_conformant_trace))\n",
    "\n",
    "non_conformant_trace = Trace(['C', 'B', 'A']) #Reordering\n",
    "print('-----------')\n",
    "print('Constraint: A.*B.*C')\n",
    "print('Trace:' + str(non_conformant_trace.nodes))\n",
    "print(explainer.counterfactual_expl(non_conformant_trace))\n",
    "print(explainer.minimal_expl(non_conformant_trace))\n",
    "\n",
    "non_conformant_trace = Trace(['A','A','C']) #Substitution\n",
    "print('-----------')\n",
    "print('Constraint: A.*B.*C')\n",
    "print('Trace:' + str(non_conformant_trace.nodes))\n",
    "print(explainer.counterfactual_expl(non_conformant_trace))\n",
    "print(explainer.minimal_expl(non_conformant_trace))\n",
    "\n",
    "explainer.remove_constraint(0)\n",
    "explainer.add_constraint('AC')\n",
    "non_conformant_trace = Trace(['A', 'X', 'C']) #Substraction\n",
    "print('-----------')\n",
    "print('Constraint: AC')\n",
    "print('Trace:' + str(non_conformant_trace.nodes))\n",
    "print(explainer.counterfactual_expl(non_conformant_trace))\n",
    "print(explainer.minimal_expl(non_conformant_trace))\n",
    "\n",
    "\n"
   ]
  },
  {
   "cell_type": "markdown",
   "metadata": {},
   "source": [
    "## Step 5: Coming soon"
   ]
  }
 ],
 "metadata": {
  "kernelspec": {
   "display_name": ".venv",
   "language": "python",
   "name": "python3"
  },
  "language_info": {
   "codemirror_mode": {
    "name": "ipython",
    "version": 3
   },
   "file_extension": ".py",
   "mimetype": "text/x-python",
   "name": "python",
   "nbconvert_exporter": "python",
   "pygments_lexer": "ipython3",
   "version": "3.12.1"
  }
 },
 "nbformat": 4,
 "nbformat_minor": 2
}
