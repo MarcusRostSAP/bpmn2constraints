{
 "cells": [
  {
   "cell_type": "markdown",
   "metadata": {},
   "source": [
    "# Explainer utility in BPMN2CONSTRAINTS\n",
    "\n",
    "In this notebook, we explore the `Explainer` class, designed to analyze and explain the conformance of traces against predefined constraints. Trace analysis is crucial in domains such as process mining, where understanding the behavior of system executions against expected models can uncover inefficiencies, deviations, or compliance issues.\n",
    "\n",
    "The constraints currently consists of basic regex, this is because of it's similiarities and likeness to declarative constraints used in BPMN2CONSTRAINTS\n"
   ]
  },
  {
   "cell_type": "markdown",
   "metadata": {},
   "source": [
    "## Step 1: Setup"
   ]
  },
  {
   "cell_type": "code",
   "execution_count": 7,
   "metadata": {},
   "outputs": [],
   "source": [
    "import sys\n",
    "sys.path.append('../')\n",
    "from explainer import Explainer, Trace"
   ]
  },
  {
   "cell_type": "markdown",
   "metadata": {},
   "source": [
    "## Step 2: Basic Usage\n",
    "Let's start by creating an instance of the `Explainer` and adding a simple constraint that a valid trace should contain the sequence \"A\" followed by \"B\" and then \"C\".\n"
   ]
  },
  {
   "cell_type": "code",
   "execution_count": 8,
   "metadata": {},
   "outputs": [],
   "source": [
    "explainer = Explainer()\n",
    "explainer.add_constraint('A.*B.*C')"
   ]
  },
  {
   "cell_type": "markdown",
   "metadata": {},
   "source": [
    "## Step 3: Analyzing Trace Conformance\n",
    "\n",
    "Now, we'll create a trace and check if it conforms to the constraints we've defined."
   ]
  },
  {
   "cell_type": "code",
   "execution_count": 9,
   "metadata": {},
   "outputs": [
    {
     "name": "stdout",
     "output_type": "stream",
     "text": [
      "Is the trace conformant? True\n"
     ]
    }
   ],
   "source": [
    "trace = Trace(['A', 'X', 'B', 'Y', 'C'])\n",
    "is_conformant = explainer.conformant(trace)\n",
    "print(f\"Is the trace conformant? {is_conformant}\")"
   ]
  },
  {
   "cell_type": "markdown",
   "metadata": {},
   "source": [
    "## Step 4: Explaining Non-conformance\n",
    "\n",
    "If a trace is not conformant, we can use the `minimal_expl` and `counterfactual_expl` methods to understand why and how to adjust the trace.\n"
   ]
  },
  {
   "cell_type": "code",
   "execution_count": 10,
   "metadata": {},
   "outputs": [
    {
     "name": "stdout",
     "output_type": "stream",
     "text": [
      "Constraint: A.*B.*C\n",
      "Trace:['A', 'C']\n",
      "\n",
      "Addition (Added B at position 1): A->B->C\n",
      "Non-conformance due to: Constraint (A.*B.*C) is violated by subtrace: ('A', 'C')\n",
      "-----------\n",
      "Constraint: A.*B.*C\n",
      "Trace:['C', 'B', 'A']\n",
      "\n",
      "Addition (Added A at position 1): C->A->B->A\n",
      "Subtraction (Removed C from position 0): A->B->A\n",
      "Addition (Added C at position 2): A->B->C->A\n",
      "Non-conformance due to: Constraint (A.*B.*C) is violated by subtrace: ('C', 'B')\n",
      "-----------\n",
      "Constraint: A.*B.*C\n",
      "Trace:['A', 'A', 'C']\n",
      "\n",
      "Addition (Added B at position 2): A->A->B->C\n",
      "Non-conformance due to: Constraint (A.*B.*C) is violated by subtrace: ('A', 'A')\n",
      "-----------\n",
      "Constraint: A.*B.*C\n",
      "Trace:['A', 'A', 'C', 'A', 'TEST', 'A', 'C', 'X', 'Y']\n",
      "-----------\n",
      "Constraint: AC\n",
      "Trace:['A', 'X', 'C']\n",
      "\n",
      "Subtraction (Removed X from position 1): A->C\n",
      "Non-conformance due to: Constraint (AC) is violated by subtrace: ('A', 'X')\n",
      "-----------\n",
      "constraint: AC\n",
      "constraint: B.*A.*B.*C\n",
      "constraint: A.*B.*C.*\n",
      "constraint: A.*D.*B*\n",
      "constraint: A[^D]*B\n",
      "constraint: B.*[^X].*\n",
      "Trace:['A', 'X', 'C']\n",
      "\n",
      "Subtraction (Removed X from position 1): A->C\n",
      "Non-conformance due to: Constraint (AC) is violated by subtrace: ('A', 'X')\n"
     ]
    }
   ],
   "source": [
    "non_conformant_trace = Trace(['A', 'C'])\n",
    "print('Constraint: A.*B.*C')\n",
    "print('Trace:' + str(non_conformant_trace.nodes))\n",
    "print(explainer.counterfactual_expl(non_conformant_trace))\n",
    "print(explainer.minimal_expl(non_conformant_trace))\n",
    "\n",
    "non_conformant_trace = Trace(['C', 'B', 'A'])\n",
    "print('-----------')\n",
    "print('Constraint: A.*B.*C')\n",
    "print('Trace:' + str(non_conformant_trace.nodes))\n",
    "print(explainer.counterfactual_expl(non_conformant_trace))\n",
    "print(explainer.minimal_expl(non_conformant_trace))\n",
    "\n",
    "non_conformant_trace = Trace(['A','A','C'])\n",
    "print('-----------')\n",
    "print('Constraint: A.*B.*C')\n",
    "print('Trace:' + str(non_conformant_trace.nodes))\n",
    "print(explainer.counterfactual_expl(non_conformant_trace))\n",
    "print(explainer.minimal_expl(non_conformant_trace))\n",
    "\n",
    "\n",
    "non_conformant_trace = Trace(['A','A','C','A','TEST','A','C', 'X', 'Y']) \n",
    "print('-----------')\n",
    "print('Constraint: A.*B.*C')\n",
    "print('Trace:' + str(non_conformant_trace.nodes))\n",
    "#print(explainer.counterfactual_expl(non_conformant_trace))\n",
    "#print(explainer.minimal_expl(non_conformant_trace))\n",
    "\n",
    "\n",
    "explainer.remove_constraint(0)\n",
    "explainer.add_constraint('AC')\n",
    "non_conformant_trace = Trace(['A', 'X', 'C']) #Substraction\n",
    "print('-----------')\n",
    "print('Constraint: AC')\n",
    "print('Trace:' + str(non_conformant_trace.nodes))\n",
    "print(explainer.counterfactual_expl(non_conformant_trace))\n",
    "print(explainer.minimal_expl(non_conformant_trace))\n",
    "print('-----------')\n",
    "\n",
    "explainer.add_constraint('B.*A.*B.*C')\n",
    "explainer.add_constraint('A.*B.*C.*')\n",
    "explainer.add_constraint('A.*D.*B*')\n",
    "explainer.add_constraint('A[^D]*B')\n",
    "explainer.add_constraint('B.*[^X].*')\n",
    "non_conformant_trace = Trace(['A', 'X', 'C']) #Substraction\n",
    "for con in explainer.constraints:\n",
    "    print(f'constraint: {con}')\n",
    "print('Trace:' + str(non_conformant_trace.nodes))\n",
    "print(explainer.counterfactual_expl(non_conformant_trace))\n",
    "print(explainer.minimal_expl(non_conformant_trace))\n",
    "\n",
    "\n"
   ]
  },
  {
   "cell_type": "markdown",
   "metadata": {},
   "source": [
    "## Step 5: Event Logs and Shapely values\n",
    "\n",
    "The event logs in this context is built with traces, here's how you set them up."
   ]
  },
  {
   "cell_type": "code",
   "execution_count": 11,
   "metadata": {},
   "outputs": [
    {
     "name": "stdout",
     "output_type": "stream",
     "text": [
      "Conformance rate: 0.2\n",
      "Contribution C$: -0.09999999999999998\n",
      "Contribution ^A: 0.09999999999999998\n"
     ]
    }
   ],
   "source": [
    "from explainer import EventLog\n",
    "\n",
    "event_log = EventLog()\n",
    "trace1 = Trace(['A', 'B', 'C'])\n",
    "trace2 = Trace(['B', 'C'])\n",
    "trace3 = Trace(['A', 'B'])\n",
    "trace4 = Trace(['B'])\n",
    "\n",
    "event_log.add_trace(trace1, 5) # The second is how many traces you'd like to add, leave blank for 1\n",
    "event_log.add_trace(trace2, 10)\n",
    "event_log.add_trace(trace3, 5)\n",
    "event_log.add_trace(trace4, 5)\n",
    "\n",
    "\n",
    "exp = Explainer()\n",
    "exp.add_constraint(\"C$\")\n",
    "exp.add_constraint(\"^A\")\n",
    "print(\"Conformance rate: \"+ str(exp.determine_conformance_rate(event_log)))\n",
    "print('Contribution C$:', exp.determine_shapley_value(event_log, exp.constraints, 0))\n",
    "print('Contribution ^A:', exp.determine_shapley_value(event_log, exp.constraints, 1))\n"
   ]
  },
  {
   "cell_type": "code",
   "execution_count": 12,
   "metadata": {},
   "outputs": [
    {
     "ename": "error",
     "evalue": "multiple repeat at position 2",
     "output_type": "error",
     "traceback": [
      "\u001b[0;31m---------------------------------------------------------------------------\u001b[0m",
      "\u001b[0;31merror\u001b[0m                                     Traceback (most recent call last)",
      "Cell \u001b[0;32mIn[12], line 20\u001b[0m\n\u001b[1;32m     18\u001b[0m exp\u001b[38;5;241m.\u001b[39madd_constraint(\u001b[38;5;124m\"\u001b[39m\u001b[38;5;124mC$\u001b[39m\u001b[38;5;124m\"\u001b[39m)\n\u001b[1;32m     19\u001b[0m exp\u001b[38;5;241m.\u001b[39madd_constraint(\u001b[38;5;124m\"\u001b[39m\u001b[38;5;124m^A\u001b[39m\u001b[38;5;124m\"\u001b[39m)\n\u001b[0;32m---> 20\u001b[0m \u001b[43mexp\u001b[49m\u001b[38;5;241;43m.\u001b[39;49m\u001b[43madd_constraint\u001b[49m\u001b[43m(\u001b[49m\u001b[38;5;124;43m\"\u001b[39;49m\u001b[38;5;124;43mB*\u001b[39;49m\u001b[38;5;132;43;01m{1}\u001b[39;49;00m\u001b[38;5;124;43m\"\u001b[39;49m\u001b[43m)\u001b[49m\n\u001b[1;32m     21\u001b[0m \u001b[38;5;28mprint\u001b[39m(\u001b[38;5;124m\"\u001b[39m\u001b[38;5;124mconformant AC :\u001b[39m\u001b[38;5;124m\"\u001b[39m \u001b[38;5;241m+\u001b[39m \u001b[38;5;28mstr\u001b[39m(exp\u001b[38;5;241m.\u001b[39mconformant(trace5)))\n\u001b[1;32m     22\u001b[0m \u001b[38;5;28mprint\u001b[39m(\u001b[38;5;124m\"\u001b[39m\u001b[38;5;124mConformance rate: \u001b[39m\u001b[38;5;124m\"\u001b[39m\u001b[38;5;241m+\u001b[39m \u001b[38;5;28mstr\u001b[39m(exp\u001b[38;5;241m.\u001b[39mdetermine_conformance_rate(event_log)))\n",
      "File \u001b[0;32m~/sap/bpmn2constraints/explainer/tutorial/../explainer.py:99\u001b[0m, in \u001b[0;36mExplainer.add_constraint\u001b[0;34m(self, regex)\u001b[0m\n\u001b[1;32m     93\u001b[0m \u001b[38;5;250m\u001b[39m\u001b[38;5;124;03m\"\"\"\u001b[39;00m\n\u001b[1;32m     94\u001b[0m \u001b[38;5;124;03mAdds a new constraint and updates the nodes list.\u001b[39;00m\n\u001b[1;32m     95\u001b[0m \u001b[38;5;124;03m\u001b[39;00m\n\u001b[1;32m     96\u001b[0m \u001b[38;5;124;03m:param regex: A regular expression representing the constraint.\u001b[39;00m\n\u001b[1;32m     97\u001b[0m \u001b[38;5;124;03m\"\"\"\u001b[39;00m\n\u001b[1;32m     98\u001b[0m \u001b[38;5;28mself\u001b[39m\u001b[38;5;241m.\u001b[39mconstraints\u001b[38;5;241m.\u001b[39mappend(regex)\n\u001b[0;32m---> 99\u001b[0m \u001b[38;5;28;01mif\u001b[39;00m \u001b[38;5;28;43mself\u001b[39;49m\u001b[38;5;241;43m.\u001b[39;49m\u001b[43mcontradiction\u001b[49m\u001b[43m(\u001b[49m\u001b[43m)\u001b[49m:\n\u001b[1;32m    100\u001b[0m     \u001b[38;5;28mself\u001b[39m\u001b[38;5;241m.\u001b[39mconstraints\u001b[38;5;241m.\u001b[39mremove(regex)\n\u001b[1;32m    101\u001b[0m     \u001b[38;5;28mprint\u001b[39m(\u001b[38;5;124mf\u001b[39m\u001b[38;5;124m\"\u001b[39m\u001b[38;5;124mConstraint \u001b[39m\u001b[38;5;132;01m{\u001b[39;00mregex\u001b[38;5;132;01m}\u001b[39;00m\u001b[38;5;124m contradicts the other constraints.\u001b[39m\u001b[38;5;124m\"\u001b[39m)\n",
      "File \u001b[0;32m~/sap/bpmn2constraints/explainer/tutorial/../explainer.py:189\u001b[0m, in \u001b[0;36mExplainer.contradiction\u001b[0;34m(self)\u001b[0m\n\u001b[1;32m    187\u001b[0m \u001b[38;5;28;01mfor\u001b[39;00m combination \u001b[38;5;129;01min\u001b[39;00m product(nodes, repeat\u001b[38;5;241m=\u001b[39mlength):\n\u001b[1;32m    188\u001b[0m     test_str \u001b[38;5;241m=\u001b[39m \u001b[38;5;124m'\u001b[39m\u001b[38;5;124m'\u001b[39m\u001b[38;5;241m.\u001b[39mjoin(combination)\n\u001b[0;32m--> 189\u001b[0m     \u001b[38;5;28;01mif\u001b[39;00m \u001b[38;5;28;43mall\u001b[39;49m\u001b[43m(\u001b[49m\u001b[43mre\u001b[49m\u001b[38;5;241;43m.\u001b[39;49m\u001b[43msearch\u001b[49m\u001b[43m(\u001b[49m\u001b[43mcon\u001b[49m\u001b[43m,\u001b[49m\u001b[43m \u001b[49m\u001b[43mtest_str\u001b[49m\u001b[43m)\u001b[49m\u001b[43m \u001b[49m\u001b[38;5;28;43;01mfor\u001b[39;49;00m\u001b[43m \u001b[49m\u001b[43mcon\u001b[49m\u001b[43m \u001b[49m\u001b[38;5;129;43;01min\u001b[39;49;00m\u001b[43m \u001b[49m\u001b[38;5;28;43mself\u001b[39;49m\u001b[38;5;241;43m.\u001b[39;49m\u001b[43mconstraints\u001b[49m\u001b[43m)\u001b[49m:\n\u001b[1;32m    190\u001b[0m         \u001b[38;5;28mself\u001b[39m\u001b[38;5;241m.\u001b[39madherent_trace \u001b[38;5;241m=\u001b[39m test_str\n\u001b[1;32m    191\u001b[0m         \u001b[38;5;28;01mreturn\u001b[39;00m \u001b[38;5;28;01mFalse\u001b[39;00m  \u001b[38;5;66;03m# Found a match\u001b[39;00m\n",
      "File \u001b[0;32m~/sap/bpmn2constraints/explainer/tutorial/../explainer.py:189\u001b[0m, in \u001b[0;36m<genexpr>\u001b[0;34m(.0)\u001b[0m\n\u001b[1;32m    187\u001b[0m \u001b[38;5;28;01mfor\u001b[39;00m combination \u001b[38;5;129;01min\u001b[39;00m product(nodes, repeat\u001b[38;5;241m=\u001b[39mlength):\n\u001b[1;32m    188\u001b[0m     test_str \u001b[38;5;241m=\u001b[39m \u001b[38;5;124m'\u001b[39m\u001b[38;5;124m'\u001b[39m\u001b[38;5;241m.\u001b[39mjoin(combination)\n\u001b[0;32m--> 189\u001b[0m     \u001b[38;5;28;01mif\u001b[39;00m \u001b[38;5;28mall\u001b[39m(\u001b[43mre\u001b[49m\u001b[38;5;241;43m.\u001b[39;49m\u001b[43msearch\u001b[49m\u001b[43m(\u001b[49m\u001b[43mcon\u001b[49m\u001b[43m,\u001b[49m\u001b[43m \u001b[49m\u001b[43mtest_str\u001b[49m\u001b[43m)\u001b[49m \u001b[38;5;28;01mfor\u001b[39;00m con \u001b[38;5;129;01min\u001b[39;00m \u001b[38;5;28mself\u001b[39m\u001b[38;5;241m.\u001b[39mconstraints):\n\u001b[1;32m    190\u001b[0m         \u001b[38;5;28mself\u001b[39m\u001b[38;5;241m.\u001b[39madherent_trace \u001b[38;5;241m=\u001b[39m test_str\n\u001b[1;32m    191\u001b[0m         \u001b[38;5;28;01mreturn\u001b[39;00m \u001b[38;5;28;01mFalse\u001b[39;00m  \u001b[38;5;66;03m# Found a match\u001b[39;00m\n",
      "File \u001b[0;32m/usr/lib/python3.10/re.py:200\u001b[0m, in \u001b[0;36msearch\u001b[0;34m(pattern, string, flags)\u001b[0m\n\u001b[1;32m    197\u001b[0m \u001b[38;5;28;01mdef\u001b[39;00m \u001b[38;5;21msearch\u001b[39m(pattern, string, flags\u001b[38;5;241m=\u001b[39m\u001b[38;5;241m0\u001b[39m):\n\u001b[1;32m    198\u001b[0m \u001b[38;5;250m    \u001b[39m\u001b[38;5;124;03m\"\"\"Scan through string looking for a match to the pattern, returning\u001b[39;00m\n\u001b[1;32m    199\u001b[0m \u001b[38;5;124;03m    a Match object, or None if no match was found.\"\"\"\u001b[39;00m\n\u001b[0;32m--> 200\u001b[0m     \u001b[38;5;28;01mreturn\u001b[39;00m \u001b[43m_compile\u001b[49m\u001b[43m(\u001b[49m\u001b[43mpattern\u001b[49m\u001b[43m,\u001b[49m\u001b[43m \u001b[49m\u001b[43mflags\u001b[49m\u001b[43m)\u001b[49m\u001b[38;5;241m.\u001b[39msearch(string)\n",
      "File \u001b[0;32m/usr/lib/python3.10/re.py:303\u001b[0m, in \u001b[0;36m_compile\u001b[0;34m(pattern, flags)\u001b[0m\n\u001b[1;32m    301\u001b[0m \u001b[38;5;28;01mif\u001b[39;00m \u001b[38;5;129;01mnot\u001b[39;00m sre_compile\u001b[38;5;241m.\u001b[39misstring(pattern):\n\u001b[1;32m    302\u001b[0m     \u001b[38;5;28;01mraise\u001b[39;00m \u001b[38;5;167;01mTypeError\u001b[39;00m(\u001b[38;5;124m\"\u001b[39m\u001b[38;5;124mfirst argument must be string or compiled pattern\u001b[39m\u001b[38;5;124m\"\u001b[39m)\n\u001b[0;32m--> 303\u001b[0m p \u001b[38;5;241m=\u001b[39m \u001b[43msre_compile\u001b[49m\u001b[38;5;241;43m.\u001b[39;49m\u001b[43mcompile\u001b[49m\u001b[43m(\u001b[49m\u001b[43mpattern\u001b[49m\u001b[43m,\u001b[49m\u001b[43m \u001b[49m\u001b[43mflags\u001b[49m\u001b[43m)\u001b[49m\n\u001b[1;32m    304\u001b[0m \u001b[38;5;28;01mif\u001b[39;00m \u001b[38;5;129;01mnot\u001b[39;00m (flags \u001b[38;5;241m&\u001b[39m DEBUG):\n\u001b[1;32m    305\u001b[0m     \u001b[38;5;28;01mif\u001b[39;00m \u001b[38;5;28mlen\u001b[39m(_cache) \u001b[38;5;241m>\u001b[39m\u001b[38;5;241m=\u001b[39m _MAXCACHE:\n\u001b[1;32m    306\u001b[0m         \u001b[38;5;66;03m# Drop the oldest item\u001b[39;00m\n",
      "File \u001b[0;32m/usr/lib/python3.10/sre_compile.py:788\u001b[0m, in \u001b[0;36mcompile\u001b[0;34m(p, flags)\u001b[0m\n\u001b[1;32m    786\u001b[0m \u001b[38;5;28;01mif\u001b[39;00m isstring(p):\n\u001b[1;32m    787\u001b[0m     pattern \u001b[38;5;241m=\u001b[39m p\n\u001b[0;32m--> 788\u001b[0m     p \u001b[38;5;241m=\u001b[39m \u001b[43msre_parse\u001b[49m\u001b[38;5;241;43m.\u001b[39;49m\u001b[43mparse\u001b[49m\u001b[43m(\u001b[49m\u001b[43mp\u001b[49m\u001b[43m,\u001b[49m\u001b[43m \u001b[49m\u001b[43mflags\u001b[49m\u001b[43m)\u001b[49m\n\u001b[1;32m    789\u001b[0m \u001b[38;5;28;01melse\u001b[39;00m:\n\u001b[1;32m    790\u001b[0m     pattern \u001b[38;5;241m=\u001b[39m \u001b[38;5;28;01mNone\u001b[39;00m\n",
      "File \u001b[0;32m/usr/lib/python3.10/sre_parse.py:955\u001b[0m, in \u001b[0;36mparse\u001b[0;34m(str, flags, state)\u001b[0m\n\u001b[1;32m    952\u001b[0m state\u001b[38;5;241m.\u001b[39mstr \u001b[38;5;241m=\u001b[39m \u001b[38;5;28mstr\u001b[39m\n\u001b[1;32m    954\u001b[0m \u001b[38;5;28;01mtry\u001b[39;00m:\n\u001b[0;32m--> 955\u001b[0m     p \u001b[38;5;241m=\u001b[39m \u001b[43m_parse_sub\u001b[49m\u001b[43m(\u001b[49m\u001b[43msource\u001b[49m\u001b[43m,\u001b[49m\u001b[43m \u001b[49m\u001b[43mstate\u001b[49m\u001b[43m,\u001b[49m\u001b[43m \u001b[49m\u001b[43mflags\u001b[49m\u001b[43m \u001b[49m\u001b[38;5;241;43m&\u001b[39;49m\u001b[43m \u001b[49m\u001b[43mSRE_FLAG_VERBOSE\u001b[49m\u001b[43m,\u001b[49m\u001b[43m \u001b[49m\u001b[38;5;241;43m0\u001b[39;49m\u001b[43m)\u001b[49m\n\u001b[1;32m    956\u001b[0m \u001b[38;5;28;01mexcept\u001b[39;00m Verbose:\n\u001b[1;32m    957\u001b[0m     \u001b[38;5;66;03m# the VERBOSE flag was switched on inside the pattern.  to be\u001b[39;00m\n\u001b[1;32m    958\u001b[0m     \u001b[38;5;66;03m# on the safe side, we'll parse the whole thing again...\u001b[39;00m\n\u001b[1;32m    959\u001b[0m     state \u001b[38;5;241m=\u001b[39m State()\n",
      "File \u001b[0;32m/usr/lib/python3.10/sre_parse.py:444\u001b[0m, in \u001b[0;36m_parse_sub\u001b[0;34m(source, state, verbose, nested)\u001b[0m\n\u001b[1;32m    442\u001b[0m start \u001b[38;5;241m=\u001b[39m source\u001b[38;5;241m.\u001b[39mtell()\n\u001b[1;32m    443\u001b[0m \u001b[38;5;28;01mwhile\u001b[39;00m \u001b[38;5;28;01mTrue\u001b[39;00m:\n\u001b[0;32m--> 444\u001b[0m     itemsappend(\u001b[43m_parse\u001b[49m\u001b[43m(\u001b[49m\u001b[43msource\u001b[49m\u001b[43m,\u001b[49m\u001b[43m \u001b[49m\u001b[43mstate\u001b[49m\u001b[43m,\u001b[49m\u001b[43m \u001b[49m\u001b[43mverbose\u001b[49m\u001b[43m,\u001b[49m\u001b[43m \u001b[49m\u001b[43mnested\u001b[49m\u001b[43m \u001b[49m\u001b[38;5;241;43m+\u001b[39;49m\u001b[43m \u001b[49m\u001b[38;5;241;43m1\u001b[39;49m\u001b[43m,\u001b[49m\n\u001b[1;32m    445\u001b[0m \u001b[43m                       \u001b[49m\u001b[38;5;129;43;01mnot\u001b[39;49;00m\u001b[43m \u001b[49m\u001b[43mnested\u001b[49m\u001b[43m \u001b[49m\u001b[38;5;129;43;01mand\u001b[39;49;00m\u001b[43m \u001b[49m\u001b[38;5;129;43;01mnot\u001b[39;49;00m\u001b[43m \u001b[49m\u001b[43mitems\u001b[49m\u001b[43m)\u001b[49m)\n\u001b[1;32m    446\u001b[0m     \u001b[38;5;28;01mif\u001b[39;00m \u001b[38;5;129;01mnot\u001b[39;00m sourcematch(\u001b[38;5;124m\"\u001b[39m\u001b[38;5;124m|\u001b[39m\u001b[38;5;124m\"\u001b[39m):\n\u001b[1;32m    447\u001b[0m         \u001b[38;5;28;01mbreak\u001b[39;00m\n",
      "File \u001b[0;32m/usr/lib/python3.10/sre_parse.py:672\u001b[0m, in \u001b[0;36m_parse\u001b[0;34m(source, state, verbose, nested, first)\u001b[0m\n\u001b[1;32m    669\u001b[0m     \u001b[38;5;28;01mraise\u001b[39;00m source\u001b[38;5;241m.\u001b[39merror(\u001b[38;5;124m\"\u001b[39m\u001b[38;5;124mnothing to repeat\u001b[39m\u001b[38;5;124m\"\u001b[39m,\n\u001b[1;32m    670\u001b[0m                        source\u001b[38;5;241m.\u001b[39mtell() \u001b[38;5;241m-\u001b[39m here \u001b[38;5;241m+\u001b[39m \u001b[38;5;28mlen\u001b[39m(this))\n\u001b[1;32m    671\u001b[0m \u001b[38;5;28;01mif\u001b[39;00m item[\u001b[38;5;241m0\u001b[39m][\u001b[38;5;241m0\u001b[39m] \u001b[38;5;129;01min\u001b[39;00m _REPEATCODES:\n\u001b[0;32m--> 672\u001b[0m     \u001b[38;5;28;01mraise\u001b[39;00m source\u001b[38;5;241m.\u001b[39merror(\u001b[38;5;124m\"\u001b[39m\u001b[38;5;124mmultiple repeat\u001b[39m\u001b[38;5;124m\"\u001b[39m,\n\u001b[1;32m    673\u001b[0m                        source\u001b[38;5;241m.\u001b[39mtell() \u001b[38;5;241m-\u001b[39m here \u001b[38;5;241m+\u001b[39m \u001b[38;5;28mlen\u001b[39m(this))\n\u001b[1;32m    674\u001b[0m \u001b[38;5;28;01mif\u001b[39;00m item[\u001b[38;5;241m0\u001b[39m][\u001b[38;5;241m0\u001b[39m] \u001b[38;5;129;01mis\u001b[39;00m SUBPATTERN:\n\u001b[1;32m    675\u001b[0m     group, add_flags, del_flags, p \u001b[38;5;241m=\u001b[39m item[\u001b[38;5;241m0\u001b[39m][\u001b[38;5;241m1\u001b[39m]\n",
      "\u001b[0;31merror\u001b[0m: multiple repeat at position 2"
     ]
    }
   ],
   "source": [
    "exp = Explainer()\n",
    "event_log = EventLog()\n",
    "trace1 = Trace(['A', 'B', 'C'])\n",
    "trace2 = Trace(['B', 'C'])\n",
    "trace3 = Trace(['A', 'B'])\n",
    "trace4 = Trace(['B'])\n",
    "trace5 = Trace(['A', 'C'])\n",
    "\n",
    "\n",
    "event_log.add_trace(trace1, 5) # The second is how many traces you'd like to add, leave blank for 1\n",
    "event_log.add_trace(trace2, 10)\n",
    "event_log.add_trace(trace3, 5)\n",
    "event_log.add_trace(trace4, 5)\n",
    "event_log.add_trace(trace5, 10)\n",
    "\n",
    "\n",
    "exp = Explainer()\n",
    "exp.add_constraint(\"C$\")\n",
    "exp.add_constraint(\"^A\")\n",
    "exp.add_constraint(\"B*\\{1\\}\")\n",
    "print(\"conformant AC :\" + str(exp.conformant(trace5)))\n",
    "print(\"Conformance rate: \"+ str(exp.determine_conformance_rate(event_log)))\n",
    "print('Contribution C$:', exp.determine_shapley_value(event_log, exp.constraints, 0))\n",
    "print('Contribution ^A:', exp.determine_shapley_value(event_log, exp.constraints, 1))\n",
    "print('Contribution B*:', exp.determine_shapley_value(event_log, exp.constraints, 2))\n",
    "\n"
   ]
  }
 ],
 "metadata": {
  "kernelspec": {
   "display_name": ".venv",
   "language": "python",
   "name": "python3"
  },
  "language_info": {
   "codemirror_mode": {
    "name": "ipython",
    "version": 3
   },
   "file_extension": ".py",
   "mimetype": "text/x-python",
   "name": "python",
   "nbconvert_exporter": "python",
   "pygments_lexer": "ipython3",
   "version": "3.10.12"
  }
 },
 "nbformat": 4,
 "nbformat_minor": 2
}
